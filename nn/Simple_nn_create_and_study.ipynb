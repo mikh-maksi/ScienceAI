{
  "nbformat": 4,
  "nbformat_minor": 0,
  "metadata": {
    "colab": {
      "provenance": []
    },
    "kernelspec": {
      "name": "python3",
      "display_name": "Python 3"
    },
    "language_info": {
      "name": "python"
    }
  },
  "cells": [
    {
      "cell_type": "code",
      "source": [
        "from google.colab import drive\n",
        "drive.mount('/content/drive')"
      ],
      "metadata": {
        "colab": {
          "base_uri": "https://localhost:8080/"
        },
        "id": "4kWBb2IdDntV",
        "outputId": "84170ecc-5138-478a-94b7-3a955f11bfb1"
      },
      "execution_count": 12,
      "outputs": [
        {
          "output_type": "stream",
          "name": "stdout",
          "text": [
            "Drive already mounted at /content/drive; to attempt to forcibly remount, call drive.mount(\"/content/drive\", force_remount=True).\n"
          ]
        }
      ]
    },
    {
      "cell_type": "code",
      "source": [
        "file_path = '/content/drive/MyDrive/ds/base_nn/addition_data.csv'"
      ],
      "metadata": {
        "id": "PXEWBa6aDlXt"
      },
      "execution_count": 13,
      "outputs": []
    },
    {
      "cell_type": "markdown",
      "source": [],
      "metadata": {
        "id": "QpnEYO5EDnBP"
      }
    },
    {
      "cell_type": "code",
      "execution_count": 14,
      "metadata": {
        "id": "0havlQSwC0rT"
      },
      "outputs": [],
      "source": [
        "import numpy as np\n",
        "import pandas as pd\n",
        "from tensorflow import keras\n",
        "from tensorflow.keras import layers\n",
        "\n",
        "# === 1. Генерація даних та збереження у CSV ===\n",
        "def generate_and_save_data(filename=file_path, n_samples=10000):\n",
        "    x1 = np.random.randint(1, 11, size=(n_samples,))\n",
        "    x2 = np.random.randint(1, 11, size=(n_samples,))\n",
        "    y = x1 + x2\n",
        "    df = pd.DataFrame({'x1': x1, 'x2': x2, 'y': y})\n",
        "    df.to_csv(filename, index=False)\n",
        "    print(f\"Data saved to {filename}\")\n"
      ]
    },
    {
      "cell_type": "code",
      "source": [
        "generate_and_save_data()"
      ],
      "metadata": {
        "colab": {
          "base_uri": "https://localhost:8080/"
        },
        "id": "gZYJZtpNC-6Q",
        "outputId": "19e27842-2606-439e-a11c-4e71b93eeca7"
      },
      "execution_count": 15,
      "outputs": [
        {
          "output_type": "stream",
          "name": "stdout",
          "text": [
            "Data saved to /content/drive/MyDrive/ds/base_nn/addition_data.csv\n"
          ]
        }
      ]
    },
    {
      "cell_type": "code",
      "source": [
        "import numpy as np\n",
        "import pandas as pd\n",
        "from tensorflow import keras\n",
        "from tensorflow.keras import layers\n",
        "\n",
        "\n",
        "# === 2. Завантаження даних з CSV ===\n",
        "def load_data(filename=file_path):\n",
        "    df = pd.read_csv(filename)\n",
        "    X = df[['x1', 'x2']].values\n",
        "    y = df['y'].values\n",
        "    return X, y\n",
        "\n",
        "# === 3. Створення та навчання моделі ===\n",
        "def build_and_train_model(X, y):\n",
        "    model = keras.Sequential([\n",
        "        layers.Dense(32, activation='relu', input_shape=(2,)),\n",
        "        layers.Dense(32, activation='relu'),\n",
        "        layers.Dense(1)\n",
        "    ])\n",
        "    model.compile(optimizer='adam', loss='mean_squared_error', metrics=['mae'])\n",
        "    model.fit(X, y, epochs=30, batch_size=32, validation_split=0.2)\n",
        "    return model\n",
        "\n",
        "# === 4. Виконання ===\n",
        "# Генеруємо та зберігаємо дані\n",
        "# generate_and_save_data()\n",
        "\n",
        "# Завантажуємо дані\n",
        "X, y = load_data()\n",
        "\n",
        "# Створюємо та навчаємо модель\n",
        "model = build_and_train_model(X, y)\n",
        "\n",
        "# Перевірка передбачення\n",
        "sample = np.array([[3, 7]])  # Очікуємо 10\n",
        "\n",
        "\n",
        "prediction = model.predict(sample)\n",
        "\n",
        "\n",
        "print(f\"Prediction for {sample[0]} is: {prediction[0][0]:.2f}\")"
      ],
      "metadata": {
        "colab": {
          "base_uri": "https://localhost:8080/"
        },
        "id": "IQBRYz9kKeZi",
        "outputId": "9492628d-bdff-4736-8fe7-b5f9327a74f2"
      },
      "execution_count": 16,
      "outputs": [
        {
          "output_type": "stream",
          "name": "stdout",
          "text": [
            "Epoch 1/30\n"
          ]
        },
        {
          "output_type": "stream",
          "name": "stderr",
          "text": [
            "/usr/local/lib/python3.11/dist-packages/keras/src/layers/core/dense.py:87: UserWarning: Do not pass an `input_shape`/`input_dim` argument to a layer. When using Sequential models, prefer using an `Input(shape)` object as the first layer in the model instead.\n",
            "  super().__init__(activity_regularizer=activity_regularizer, **kwargs)\n"
          ]
        },
        {
          "output_type": "stream",
          "name": "stdout",
          "text": [
            "\u001b[1m250/250\u001b[0m \u001b[32m━━━━━━━━━━━━━━━━━━━━\u001b[0m\u001b[37m\u001b[0m \u001b[1m2s\u001b[0m 3ms/step - loss: 48.0146 - mae: 4.8870 - val_loss: 0.0989 - val_mae: 0.2599\n",
            "Epoch 2/30\n",
            "\u001b[1m250/250\u001b[0m \u001b[32m━━━━━━━━━━━━━━━━━━━━\u001b[0m\u001b[37m\u001b[0m \u001b[1m1s\u001b[0m 2ms/step - loss: 0.0752 - mae: 0.2266 - val_loss: 0.0249 - val_mae: 0.1326\n",
            "Epoch 3/30\n",
            "\u001b[1m250/250\u001b[0m \u001b[32m━━━━━━━━━━━━━━━━━━━━\u001b[0m\u001b[37m\u001b[0m \u001b[1m1s\u001b[0m 2ms/step - loss: 0.0193 - mae: 0.1135 - val_loss: 0.0132 - val_mae: 0.0915\n",
            "Epoch 4/30\n",
            "\u001b[1m250/250\u001b[0m \u001b[32m━━━━━━━━━━━━━━━━━━━━\u001b[0m\u001b[37m\u001b[0m \u001b[1m1s\u001b[0m 2ms/step - loss: 0.0116 - mae: 0.0851 - val_loss: 0.0080 - val_mae: 0.0714\n",
            "Epoch 5/30\n",
            "\u001b[1m250/250\u001b[0m \u001b[32m━━━━━━━━━━━━━━━━━━━━\u001b[0m\u001b[37m\u001b[0m \u001b[1m1s\u001b[0m 2ms/step - loss: 0.0070 - mae: 0.0659 - val_loss: 0.0044 - val_mae: 0.0530\n",
            "Epoch 6/30\n",
            "\u001b[1m250/250\u001b[0m \u001b[32m━━━━━━━━━━━━━━━━━━━━\u001b[0m\u001b[37m\u001b[0m \u001b[1m1s\u001b[0m 3ms/step - loss: 0.0038 - mae: 0.0486 - val_loss: 0.0023 - val_mae: 0.0379\n",
            "Epoch 7/30\n",
            "\u001b[1m250/250\u001b[0m \u001b[32m━━━━━━━━━━━━━━━━━━━━\u001b[0m\u001b[37m\u001b[0m \u001b[1m1s\u001b[0m 2ms/step - loss: 0.0018 - mae: 0.0336 - val_loss: 9.8828e-04 - val_mae: 0.0243\n",
            "Epoch 8/30\n",
            "\u001b[1m250/250\u001b[0m \u001b[32m━━━━━━━━━━━━━━━━━━━━\u001b[0m\u001b[37m\u001b[0m \u001b[1m2s\u001b[0m 4ms/step - loss: 8.2434e-04 - mae: 0.0222 - val_loss: 4.6509e-04 - val_mae: 0.0167\n",
            "Epoch 9/30\n",
            "\u001b[1m250/250\u001b[0m \u001b[32m━━━━━━━━━━━━━━━━━━━━\u001b[0m\u001b[37m\u001b[0m \u001b[1m1s\u001b[0m 4ms/step - loss: 3.8930e-04 - mae: 0.0153 - val_loss: 2.3849e-04 - val_mae: 0.0121\n",
            "Epoch 10/30\n",
            "\u001b[1m250/250\u001b[0m \u001b[32m━━━━━━━━━━━━━━━━━━━━\u001b[0m\u001b[37m\u001b[0m \u001b[1m1s\u001b[0m 3ms/step - loss: 2.1634e-04 - mae: 0.0115 - val_loss: 1.5168e-04 - val_mae: 0.0099\n",
            "Epoch 11/30\n",
            "\u001b[1m250/250\u001b[0m \u001b[32m━━━━━━━━━━━━━━━━━━━━\u001b[0m\u001b[37m\u001b[0m \u001b[1m1s\u001b[0m 2ms/step - loss: 1.4003e-04 - mae: 0.0093 - val_loss: 1.1578e-04 - val_mae: 0.0086\n",
            "Epoch 12/30\n",
            "\u001b[1m250/250\u001b[0m \u001b[32m━━━━━━━━━━━━━━━━━━━━\u001b[0m\u001b[37m\u001b[0m \u001b[1m1s\u001b[0m 2ms/step - loss: 1.0919e-04 - mae: 0.0082 - val_loss: 9.3136e-05 - val_mae: 0.0075\n",
            "Epoch 13/30\n",
            "\u001b[1m250/250\u001b[0m \u001b[32m━━━━━━━━━━━━━━━━━━━━\u001b[0m\u001b[37m\u001b[0m \u001b[1m1s\u001b[0m 2ms/step - loss: 8.9316e-05 - mae: 0.0073 - val_loss: 7.6585e-05 - val_mae: 0.0064\n",
            "Epoch 14/30\n",
            "\u001b[1m250/250\u001b[0m \u001b[32m━━━━━━━━━━━━━━━━━━━━\u001b[0m\u001b[37m\u001b[0m \u001b[1m1s\u001b[0m 2ms/step - loss: 7.1430e-05 - mae: 0.0063 - val_loss: 5.9584e-05 - val_mae: 0.0058\n",
            "Epoch 15/30\n",
            "\u001b[1m250/250\u001b[0m \u001b[32m━━━━━━━━━━━━━━━━━━━━\u001b[0m\u001b[37m\u001b[0m \u001b[1m1s\u001b[0m 2ms/step - loss: 6.0232e-05 - mae: 0.0058 - val_loss: 5.1321e-05 - val_mae: 0.0053\n",
            "Epoch 16/30\n",
            "\u001b[1m250/250\u001b[0m \u001b[32m━━━━━━━━━━━━━━━━━━━━\u001b[0m\u001b[37m\u001b[0m \u001b[1m1s\u001b[0m 2ms/step - loss: 5.0313e-05 - mae: 0.0053 - val_loss: 4.1147e-05 - val_mae: 0.0048\n",
            "Epoch 17/30\n",
            "\u001b[1m250/250\u001b[0m \u001b[32m━━━━━━━━━━━━━━━━━━━━\u001b[0m\u001b[37m\u001b[0m \u001b[1m1s\u001b[0m 2ms/step - loss: 4.2441e-05 - mae: 0.0048 - val_loss: 3.2062e-05 - val_mae: 0.0042\n",
            "Epoch 18/30\n",
            "\u001b[1m250/250\u001b[0m \u001b[32m━━━━━━━━━━━━━━━━━━━━\u001b[0m\u001b[37m\u001b[0m \u001b[1m1s\u001b[0m 2ms/step - loss: 3.5477e-05 - mae: 0.0044 - val_loss: 2.6137e-05 - val_mae: 0.0038\n",
            "Epoch 19/30\n",
            "\u001b[1m250/250\u001b[0m \u001b[32m━━━━━━━━━━━━━━━━━━━━\u001b[0m\u001b[37m\u001b[0m \u001b[1m1s\u001b[0m 2ms/step - loss: 2.7291e-05 - mae: 0.0038 - val_loss: 2.0889e-05 - val_mae: 0.0033\n",
            "Epoch 20/30\n",
            "\u001b[1m250/250\u001b[0m \u001b[32m━━━━━━━━━━━━━━━━━━━━\u001b[0m\u001b[37m\u001b[0m \u001b[1m1s\u001b[0m 2ms/step - loss: 2.2589e-05 - mae: 0.0034 - val_loss: 1.7092e-05 - val_mae: 0.0030\n",
            "Epoch 21/30\n",
            "\u001b[1m250/250\u001b[0m \u001b[32m━━━━━━━━━━━━━━━━━━━━\u001b[0m\u001b[37m\u001b[0m \u001b[1m1s\u001b[0m 2ms/step - loss: 1.8216e-05 - mae: 0.0031 - val_loss: 1.6098e-05 - val_mae: 0.0030\n",
            "Epoch 22/30\n",
            "\u001b[1m250/250\u001b[0m \u001b[32m━━━━━━━━━━━━━━━━━━━━\u001b[0m\u001b[37m\u001b[0m \u001b[1m1s\u001b[0m 2ms/step - loss: 1.6121e-05 - mae: 0.0029 - val_loss: 1.3238e-05 - val_mae: 0.0025\n",
            "Epoch 23/30\n",
            "\u001b[1m250/250\u001b[0m \u001b[32m━━━━━━━━━━━━━━━━━━━━\u001b[0m\u001b[37m\u001b[0m \u001b[1m1s\u001b[0m 2ms/step - loss: 1.4285e-05 - mae: 0.0027 - val_loss: 1.2408e-05 - val_mae: 0.0024\n",
            "Epoch 24/30\n",
            "\u001b[1m250/250\u001b[0m \u001b[32m━━━━━━━━━━━━━━━━━━━━\u001b[0m\u001b[37m\u001b[0m \u001b[1m1s\u001b[0m 2ms/step - loss: 1.2692e-05 - mae: 0.0024 - val_loss: 1.0520e-05 - val_mae: 0.0021\n",
            "Epoch 25/30\n",
            "\u001b[1m250/250\u001b[0m \u001b[32m━━━━━━━━━━━━━━━━━━━━\u001b[0m\u001b[37m\u001b[0m \u001b[1m1s\u001b[0m 3ms/step - loss: 1.2304e-05 - mae: 0.0024 - val_loss: 1.0800e-05 - val_mae: 0.0024\n",
            "Epoch 26/30\n",
            "\u001b[1m250/250\u001b[0m \u001b[32m━━━━━━━━━━━━━━━━━━━━\u001b[0m\u001b[37m\u001b[0m \u001b[1m1s\u001b[0m 4ms/step - loss: 9.6760e-06 - mae: 0.0021 - val_loss: 9.2379e-06 - val_mae: 0.0022\n",
            "Epoch 27/30\n",
            "\u001b[1m250/250\u001b[0m \u001b[32m━━━━━━━━━━━━━━━━━━━━\u001b[0m\u001b[37m\u001b[0m \u001b[1m1s\u001b[0m 4ms/step - loss: 9.6247e-06 - mae: 0.0022 - val_loss: 7.3986e-06 - val_mae: 0.0019\n",
            "Epoch 28/30\n",
            "\u001b[1m250/250\u001b[0m \u001b[32m━━━━━━━━━━━━━━━━━━━━\u001b[0m\u001b[37m\u001b[0m \u001b[1m1s\u001b[0m 2ms/step - loss: 7.9969e-06 - mae: 0.0019 - val_loss: 7.6314e-06 - val_mae: 0.0020\n",
            "Epoch 29/30\n",
            "\u001b[1m250/250\u001b[0m \u001b[32m━━━━━━━━━━━━━━━━━━━━\u001b[0m\u001b[37m\u001b[0m \u001b[1m1s\u001b[0m 2ms/step - loss: 7.6604e-06 - mae: 0.0019 - val_loss: 1.0067e-05 - val_mae: 0.0024\n",
            "Epoch 30/30\n",
            "\u001b[1m250/250\u001b[0m \u001b[32m━━━━━━━━━━━━━━━━━━━━\u001b[0m\u001b[37m\u001b[0m \u001b[1m1s\u001b[0m 2ms/step - loss: 8.4799e-06 - mae: 0.0021 - val_loss: 6.8103e-06 - val_mae: 0.0020\n",
            "\u001b[1m1/1\u001b[0m \u001b[32m━━━━━━━━━━━━━━━━━━━━\u001b[0m\u001b[37m\u001b[0m \u001b[1m0s\u001b[0m 65ms/step\n",
            "Prediction for [3 7] is: 10.00\n"
          ]
        }
      ]
    },
    {
      "cell_type": "code",
      "source": [
        "# Перевірка передбачення\n",
        "sample = np.array([[2,8]])  # Очікуємо 10\n",
        "\n",
        "prediction = model.predict(sample)\n",
        "\n",
        "print(f\"Prediction for {sample[0]} is: {prediction[0][0]:.2f}\")"
      ],
      "metadata": {
        "colab": {
          "base_uri": "https://localhost:8080/"
        },
        "id": "J6FNRFShrtqm",
        "outputId": "ca619807-0b33-43b7-a08e-130a3c2de7d2"
      },
      "execution_count": 18,
      "outputs": [
        {
          "output_type": "stream",
          "name": "stdout",
          "text": [
            "\u001b[1m1/1\u001b[0m \u001b[32m━━━━━━━━━━━━━━━━━━━━\u001b[0m\u001b[37m\u001b[0m \u001b[1m0s\u001b[0m 35ms/step\n",
            "Prediction for [2 8] is: 10.00\n"
          ]
        }
      ]
    }
  ]
}